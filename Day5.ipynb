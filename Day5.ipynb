{
 "cells": [
  {
   "cell_type": "code",
   "execution_count": 1,
   "id": "c766bcc2-03fb-473a-83d6-e84d5c2813aa",
   "metadata": {},
   "outputs": [
    {
     "name": "stdout",
     "output_type": "stream",
     "text": [
      "<class 'set'>\n"
     ]
    }
   ],
   "source": [
    "#Tuples\n",
    "#immutable\n",
    "#count\n",
    "d=tuple('a string with many \"a\"s')\n",
    "d.count('a')\n",
    "#index\n",
    "d.index('a')\n",
    "\n",
    "#sets are mainly used to eliminate repeated numbers in a sequence/list.\n",
    "#unordered collection\n",
    "#mutable\n",
    "set1=set()\n",
    "print(type(set1))"
   ]
  },
  {
   "cell_type": "code",
   "execution_count": 3,
   "id": "6c13e6ac-4101-4007-9a71-5d6bd89c85d2",
   "metadata": {},
   "outputs": [
    {
     "name": "stdout",
     "output_type": "stream",
     "text": [
      "{1, 2, 3}\n"
     ]
    }
   ],
   "source": [
    "set1.difference(set2)\n",
    "\n",
    "set2.symmetric_difference(set1)\n",
    "\n",
    "set1.issubset(set2)\n",
    "set2.isdisjoint(set1)\n",
    "set2.issuperset(set1)\n",
    "set1.pop()\n",
    "print(set1)\n",
    "set1.clear()"
   ]
  },
  {
   "cell_type": "code",
   "execution_count": 2,
   "id": "0a9e54d6-6904-4f00-a50e-6c715f29d00e",
   "metadata": {},
   "outputs": [
    {
     "name": "stdout",
     "output_type": "stream",
     "text": [
      "{0, 1, 2, 3}\n"
     ]
    },
    {
     "data": {
      "text/plain": [
       "{2, 3}"
      ]
     },
     "execution_count": 2,
     "metadata": {},
     "output_type": "execute_result"
    }
   ],
   "source": [
    "#eg1\n",
    "set1=set([1,2,3])\n",
    "set2=set([2,3,4,5])\n",
    "#union (in starting universal set)\n",
    "set1.union(set2)\n",
    "\n",
    "#eg2\n",
    "set1.add(0)\n",
    "print(set1)\n",
    "set1.intersection(set2)"
   ]
  },
  {
   "cell_type": "code",
   "execution_count": 5,
   "id": "c90982e7-42cd-46a1-9238-a219e60c64a4",
   "metadata": {},
   "outputs": [
    {
     "name": "stdout",
     "output_type": "stream",
     "text": [
      "value\n",
      "dict_keys(['key', 'key1'])\n",
      "dict_values(['value', 'value'])\n",
      "dict_items([('key', 'value'), ('key1', 'value')])\n"
     ]
    },
    {
     "data": {
      "text/plain": [
       "('mar', 3)"
      ]
     },
     "execution_count": 5,
     "metadata": {},
     "output_type": "execute_result"
    }
   ],
   "source": [
    "#Dictionary\n",
    "d={\"key\":\"value\", \"key1\":\"value\"}\n",
    "dict1={\"jan\":1,\"feb\":2,\"mar\":3}\n",
    "print(d.get(\"key\"))\n",
    "print(d.keys())\n",
    "print(d.values())\n",
    "print(d.items())\n",
    "d.update(dict1)\n",
    "d.copy()\n",
    "d.pop(\"key\")\n",
    "d.popitem()\n",
    "d.clear()"
   ]
  },
  {
   "cell_type": "code",
   "execution_count": 4,
   "id": "947cfc6e-b565-4209-8af2-c1be9825b91d",
   "metadata": {},
   "outputs": [
    {
     "name": "stdin",
     "output_type": "stream",
     "text": [
      "enter num: 10\n"
     ]
    },
    {
     "name": "stdout",
     "output_type": "stream",
     "text": [
      "[10]\n"
     ]
    },
    {
     "name": "stdin",
     "output_type": "stream",
     "text": [
      "enter num: 20\n"
     ]
    },
    {
     "name": "stdout",
     "output_type": "stream",
     "text": [
      "[10, 20]\n"
     ]
    },
    {
     "name": "stdin",
     "output_type": "stream",
     "text": [
      "enter num: 30\n"
     ]
    },
    {
     "name": "stdout",
     "output_type": "stream",
     "text": [
      "[10, 20, 30]\n"
     ]
    },
    {
     "name": "stdin",
     "output_type": "stream",
     "text": [
      "enter num: 40\n"
     ]
    },
    {
     "name": "stdout",
     "output_type": "stream",
     "text": [
      "[10, 20, 30, 40]\n"
     ]
    },
    {
     "name": "stdin",
     "output_type": "stream",
     "text": [
      "enter num: 50\n"
     ]
    },
    {
     "name": "stdout",
     "output_type": "stream",
     "text": [
      "[10, 20, 30, 40, 50]\n"
     ]
    }
   ],
   "source": [
    "list1=[]\n",
    "for i in range(0,5):\n",
    "    num=int(input(\"enter num:\"))\n",
    "    list1.append(num)\n",
    "    print(list1)"
   ]
  },
  {
   "cell_type": "code",
   "execution_count": 9,
   "id": "80ca1360-e31a-44e4-9614-08f9b4fceea0",
   "metadata": {},
   "outputs": [
    {
     "name": "stdout",
     "output_type": "stream",
     "text": [
      "[1, 2, 3, 4, 5, 6]\n"
     ]
    }
   ],
   "source": [
    "list1=[1,2,3]\n",
    "list2=[4,5,6]\n",
    "list1.extend(list2)\n",
    "print(list1)"
   ]
  },
  {
   "cell_type": "code",
   "execution_count": 10,
   "id": "c8a9190a-ad99-48cc-a2d5-97d33dbe5f60",
   "metadata": {},
   "outputs": [
    {
     "name": "stdout",
     "output_type": "stream",
     "text": [
      "[10, 20, 25, 30, 40, 50]\n"
     ]
    }
   ],
   "source": [
    "l=[10,20,30,40,50]\n",
    "l.insert(2,25)\n",
    "print(l)"
   ]
  },
  {
   "cell_type": "code",
   "execution_count": 11,
   "id": "0890b492-3f9a-4533-b51d-e534fc955a43",
   "metadata": {},
   "outputs": [
    {
     "name": "stdout",
     "output_type": "stream",
     "text": [
      "[10, 30, 40, 50]\n"
     ]
    }
   ],
   "source": [
    "l=[10,20,30,40,50]\n",
    "l.remove(20)\n",
    "print(l)"
   ]
  },
  {
   "cell_type": "code",
   "execution_count": 13,
   "id": "87b7caf9-d9da-4e86-9ddd-c3d9c290e5e5",
   "metadata": {},
   "outputs": [
    {
     "name": "stdout",
     "output_type": "stream",
     "text": [
      "Popped:  5\n",
      "[1, 2, 3, 4]\n"
     ]
    }
   ],
   "source": [
    "lst=[1,2,3,4,5]\n",
    "print(\"Popped: \",lst[4])\n",
    "lst.pop()\n",
    "print(lst)"
   ]
  },
  {
   "cell_type": "code",
   "execution_count": 14,
   "id": "9ba3e759-8cd0-4f45-a739-047751424934",
   "metadata": {},
   "outputs": [
    {
     "name": "stdout",
     "output_type": "stream",
     "text": [
      "3\n"
     ]
    }
   ],
   "source": [
    "b=[5,10,15,20,25]\n",
    "print(b.index(20))"
   ]
  },
  {
   "cell_type": "code",
   "execution_count": 15,
   "id": "873f44f5-2c33-4c6c-8b8f-8a397c11923b",
   "metadata": {},
   "outputs": [
    {
     "data": {
      "text/plain": [
       "4"
      ]
     },
     "execution_count": 15,
     "metadata": {},
     "output_type": "execute_result"
    }
   ],
   "source": [
    "list3=[1, 2, 2, 3, 2, 4, 2]\n",
    "list3.count(2)"
   ]
  },
  {
   "cell_type": "code",
   "execution_count": 9,
   "id": "72742a08-f0f7-40ed-a6ea-57c7262d99c2",
   "metadata": {},
   "outputs": [
    {
     "ename": "SyntaxError",
     "evalue": "invalid character '“' (U+201C) (1746932552.py, line 1)",
     "output_type": "error",
     "traceback": [
      "\u001b[1;36m  Cell \u001b[1;32mIn[9], line 1\u001b[1;36m\u001b[0m\n\u001b[1;33m    file = open(“notes.txt”,”w”)\u001b[0m\n\u001b[1;37m                ^\u001b[0m\n\u001b[1;31mSyntaxError\u001b[0m\u001b[1;31m:\u001b[0m invalid character '“' (U+201C)\n"
     ]
    }
   ],
   "source": [
    "file = open(“notes.txt”,”w”)\n",
    "file.write(“Python is awesome!\\n”)\n",
    "file.write(“File handling is easy.”)\n",
    "file.close()"
   ]
  },
  {
   "cell_type": "code",
   "execution_count": 7,
   "id": "dea4c059-3c1d-4c1b-887b-69b933aed081",
   "metadata": {},
   "outputs": [
    {
     "ename": "IndentationError",
     "evalue": "expected an indented block after 'match' statement on line 15 (4080069112.py, line 16)",
     "output_type": "error",
     "traceback": [
      "\u001b[1;36m  Cell \u001b[1;32mIn[7], line 16\u001b[1;36m\u001b[0m\n\u001b[1;33m    case 1:\u001b[0m\n\u001b[1;37m    ^\u001b[0m\n\u001b[1;31mIndentationError\u001b[0m\u001b[1;31m:\u001b[0m expected an indented block after 'match' statement on line 15\n"
     ]
    }
   ],
   "source": [
    "class Bank:\n",
    "    balance=0\n",
    "    def deposit():\n",
    "        amount=int(input(\"Enter the amount to be deposited: \"))\n",
    "    def withdraw():\n",
    "            amount=int(input(\"Amount to withdraw: \"))\n",
    "            if(amount>Bank.balance):\n",
    "                       print(\"Insufficient Balance\")\n",
    "            else:\n",
    "                       Bank.balance= Bank.balance-amount\n",
    "                       print(\"Withdrawn: \",amount)\n",
    "    def checkbal():\n",
    "        print(Bank.balance)\n",
    "    def function(value):\n",
    "        match value:\n",
    "        case 1:\n",
    "            deposit()\n",
    "        case 2:\n",
    "            withdraw()\n",
    "        case 3:\n",
    "            checkbal()"
   ]
  },
  {
   "cell_type": "code",
   "execution_count": 8,
   "id": "2f0b4ca2-34fe-49e2-b0c1-40dfb542a963",
   "metadata": {},
   "outputs": [
    {
     "name": "stdout",
     "output_type": "stream",
     "text": [
      "[3, 5, 7, 10]\n",
      "[10, 7, 5, 3]\n"
     ]
    }
   ],
   "source": [
    "list4=[10, 5, 7, 3]\n",
    "list4.sort()\n",
    "print(list4)\n",
    "list4.sort(reverse=True)\n",
    "print(list4)"
   ]
  },
  {
   "cell_type": "code",
   "execution_count": 5,
   "id": "db895904-0bec-4ada-82d3-6cd5e089db83",
   "metadata": {},
   "outputs": [
    {
     "ename": "SyntaxError",
     "evalue": "unterminated string literal (detected at line 2) (4184747761.py, line 2)",
     "output_type": "error",
     "traceback": [
      "\u001b[1;36m  Cell \u001b[1;32mIn[5], line 2\u001b[1;36m\u001b[0m\n\u001b[1;33m    File = open(\"myfile.txt”,\"r\")\u001b[0m\n\u001b[1;37m                              ^\u001b[0m\n\u001b[1;31mSyntaxError\u001b[0m\u001b[1;31m:\u001b[0m unterminated string literal (detected at line 2)\n"
     ]
    }
   ],
   "source": [
    "1.\tOpen a file\n",
    "File = open(\"myfile.txt”,\"r\")\n",
    "\n",
    "2.\tRead/Write  from file\n",
    "Content = file.read()\n",
    "3.\tClose the file\n",
    "file.close()\n",
    "\n",
    "4.\tWrite\n",
    "file = open(\"notes.txt\",\"w\")\n",
    "file.write(\"Python is awesome!\\n\")\n",
    "file.write(\"File handling is easy.\")\n",
    "file.close()\n",
    "\n",
    "5.\tAppend\n",
    "file=open(\"notes.txt\",\"a\")\n",
    "file.write(\"\\nThis line is added later.\")\n",
    "file.close()\n",
    "\n",
    "6.\tDeleting a file\n",
    "import os\n",
    "if os.path.exists(\"data.txt\"):\n",
    "       os.remove(\"data.txt\")\n",
    "        print(\"File deleted\")\n",
    "else:\n",
    "       print(\"File doesn’t exists\")"
   ]
  },
  {
   "cell_type": "code",
   "execution_count": 6,
   "id": "2370df74-a854-4751-bf92-3157907d8010",
   "metadata": {},
   "outputs": [
    {
     "name": "stdin",
     "output_type": "stream",
     "text": [
      "Enter a number:  10\n"
     ]
    },
    {
     "name": "stdout",
     "output_type": "stream",
     "text": [
      "You entered: 10\n"
     ]
    }
   ],
   "source": [
    "#exception handling\n",
    "try:\n",
    "    x=int(input(\"Enter a number: \"))\n",
    "    print(\"You entered:\", x)\n",
    "except ValueError:\n",
    "    print(\"Invalid input! Please enter a number.\")"
   ]
  },
  {
   "cell_type": "code",
   "execution_count": 7,
   "id": "ab7c2266-f59d-43d0-b718-320fb56e041d",
   "metadata": {},
   "outputs": [
    {
     "name": "stdin",
     "output_type": "stream",
     "text": [
      "Enter numerator:  50\n",
      "Enter denominator:  0\n"
     ]
    },
    {
     "ename": "ZeroDivisionError",
     "evalue": "division by zero",
     "output_type": "error",
     "traceback": [
      "\u001b[1;31m---------------------------------------------------------------------------\u001b[0m",
      "\u001b[1;31mZeroDivisionError\u001b[0m                         Traceback (most recent call last)",
      "Cell \u001b[1;32mIn[7], line 4\u001b[0m\n\u001b[0;32m      2\u001b[0m     a\u001b[38;5;241m=\u001b[39m\u001b[38;5;28mint\u001b[39m(\u001b[38;5;28minput\u001b[39m(\u001b[38;5;124m\"\u001b[39m\u001b[38;5;124mEnter numerator: \u001b[39m\u001b[38;5;124m\"\u001b[39m))\n\u001b[0;32m      3\u001b[0m     b\u001b[38;5;241m=\u001b[39m\u001b[38;5;28mint\u001b[39m(\u001b[38;5;28minput\u001b[39m(\u001b[38;5;124m\"\u001b[39m\u001b[38;5;124mEnter denominator: \u001b[39m\u001b[38;5;124m\"\u001b[39m))\n\u001b[1;32m----> 4\u001b[0m     result\u001b[38;5;241m=\u001b[39ma\u001b[38;5;241m/\u001b[39mb\n\u001b[0;32m      5\u001b[0m     \u001b[38;5;28mprint\u001b[39m(\u001b[38;5;124m\"\u001b[39m\u001b[38;5;124mResult:\u001b[39m\u001b[38;5;124m\"\u001b[39m, result)\n\u001b[0;32m      6\u001b[0m \u001b[38;5;28;01mexcept\u001b[39;00m \u001b[38;5;167;01mValueError\u001b[39;00m:\n",
      "\u001b[1;31mZeroDivisionError\u001b[0m: division by zero"
     ]
    }
   ],
   "source": [
    "try:\n",
    "    a=int(input(\"Enter numerator: \"))\n",
    "    b=int(input(\"Enter denominator: \"))\n",
    "    result=a/b\n",
    "    print(\"Result:\", result)\n",
    "except ValueError:\n",
    "    print(\"Invalid input! Enter a number.\")"
   ]
  },
  {
   "cell_type": "code",
   "execution_count": 9,
   "id": "0ca0e822-a6f6-45e9-9ae2-455d1c2cb90e",
   "metadata": {},
   "outputs": [
    {
     "name": "stdin",
     "output_type": "stream",
     "text": [
      "enter your age:  9\n"
     ]
    },
    {
     "name": "stdout",
     "output_type": "stream",
     "text": [
      "Error: You must be at least 18 years old.\n"
     ]
    }
   ],
   "source": [
    "#custom exception\n",
    "def check_age(age):\n",
    "    if age<18:\n",
    "        raise ValueError(\"You must be at least 18 years old.\");\n",
    "    return \" Access granted.\"\n",
    "try:\n",
    "    age=int(input(\"enter your age: \"))\n",
    "    print(check_age(age))\n",
    "except ValueError as e:\n",
    "    print(\"Error:\",e)"
   ]
  },
  {
   "cell_type": "code",
   "execution_count": 10,
   "id": "4e9f1020-76b3-4d71-adb6-0b4c1de82570",
   "metadata": {},
   "outputs": [
    {
     "name": "stdin",
     "output_type": "stream",
     "text": [
      "Gender:  male\n",
      "Gender:  female\n",
      "Gender:  male\n"
     ]
    },
    {
     "name": "stdout",
     "output_type": "stream",
     "text": [
      "No. of males: 2\n",
      "No. of females: 1\n"
     ]
    },
    {
     "name": "stdin",
     "output_type": "stream",
     "text": [
      "Gender:  male\n",
      "Gender:  male\n",
      "Gender:  female\n"
     ]
    },
    {
     "name": "stdout",
     "output_type": "stream",
     "text": [
      "No. of males: 2\n",
      "No. of females: 1\n"
     ]
    },
    {
     "name": "stdin",
     "output_type": "stream",
     "text": [
      "Gender:  male\n",
      "Gender:  female\n",
      "Gender:  female\n"
     ]
    },
    {
     "name": "stdout",
     "output_type": "stream",
     "text": [
      "No. of males: 1\n",
      "No. of females: 2\n"
     ]
    }
   ],
   "source": [
    "def family():\n",
    "    male_count=0\n",
    "    female_count=0\n",
    "    for i in range(0,3):\n",
    "        gender=input(\"Gender: \")\n",
    "        if gender==\"male\":\n",
    "            male_count+=1\n",
    "        elif gender==\"female\":\n",
    "            female_count+=1\n",
    "        else:\n",
    "            print(\"Others\")\n",
    "    print(\"No. of males:\", male_count)\n",
    "    print(\"No. of females:\", female_count) \n",
    "\n",
    "family1=family()\n",
    "family2=family()\n",
    "family3=family()"
   ]
  },
  {
   "cell_type": "code",
   "execution_count": null,
   "id": "98569ed1-584b-42fc-99b5-8f9db5e86e2b",
   "metadata": {},
   "outputs": [],
   "source": []
  }
 ],
 "metadata": {
  "kernelspec": {
   "display_name": "Python 3 (ipykernel)",
   "language": "python",
   "name": "python3"
  },
  "language_info": {
   "codemirror_mode": {
    "name": "ipython",
    "version": 3
   },
   "file_extension": ".py",
   "mimetype": "text/x-python",
   "name": "python",
   "nbconvert_exporter": "python",
   "pygments_lexer": "ipython3",
   "version": "3.13.5"
  }
 },
 "nbformat": 4,
 "nbformat_minor": 5
}
