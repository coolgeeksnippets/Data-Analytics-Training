{
 "cells": [
  {
   "cell_type": "code",
   "execution_count": 1,
   "id": "50375ea3-3b2a-4e7f-87f5-877fd219cc92",
   "metadata": {},
   "outputs": [
    {
     "name": "stdout",
     "output_type": "stream",
     "text": [
      "<class 'str'>\n"
     ]
    }
   ],
   "source": [
    "a=1\n",
    "b=str(a)\n",
    "print(type(b))"
   ]
  },
  {
   "cell_type": "code",
   "execution_count": 2,
   "id": "0a349344-e0b2-457c-a963-10c7054eb5b8",
   "metadata": {},
   "outputs": [
    {
     "name": "stdout",
     "output_type": "stream",
     "text": [
      "7\n"
     ]
    }
   ],
   "source": [
    "a=3\n",
    "b=4\n",
    "c=a+b\n",
    "print(c)"
   ]
  },
  {
   "cell_type": "code",
   "execution_count": 9,
   "id": "35598171-9273-41a0-83b3-1a55a33ac813",
   "metadata": {},
   "outputs": [
    {
     "name": "stdin",
     "output_type": "stream",
     "text": [
      "Enter the first number:  15\n",
      "Enter the second number:  10\n",
      "Enter the third number:  2\n"
     ]
    },
    {
     "name": "stdout",
     "output_type": "stream",
     "text": [
      "27\n",
      "Less than 50\n",
      "Not Divisible\n"
     ]
    }
   ],
   "source": [
    "a=int(input(\"Enter the first number: \"))\n",
    "b=int(input(\"Enter the second number: \"))\n",
    "c=int(input(\"Enter the third number: \"))\n",
    "sum=a+b+c\n",
    "print(sum)\n",
    "avg=sum/3\n",
    "if avg>50:\n",
    "    print(avg)\n",
    "else:\n",
    "    print(\"Less than 50\")\n",
    "if sum%5==0:\n",
    "    print(\"Divisible by 5\")\n",
    "else:\n",
    "    print(\"Not Divisible\")"
   ]
  },
  {
   "cell_type": "code",
   "execution_count": 1,
   "id": "ec4dab6f-ef5f-4f9f-9e86-7d71bb708b4f",
   "metadata": {},
   "outputs": [
    {
     "name": "stdout",
     "output_type": "stream",
     "text": [
      "False\n"
     ]
    }
   ],
   "source": [
    "a=10\n",
    "b=10\n",
    "print(a>b and a==b)"
   ]
  },
  {
   "cell_type": "markdown",
   "id": "4f174493-2e99-48a9-953c-e0a13c913786",
   "metadata": {},
   "source": [
    "a=10\n",
    "b=10\n",
    "print(a>b or a==b)"
   ]
  },
  {
   "cell_type": "code",
   "execution_count": 2,
   "id": "5906e6a9-880f-4982-8708-4746c6c6b073",
   "metadata": {},
   "outputs": [
    {
     "name": "stdout",
     "output_type": "stream",
     "text": [
      "True\n"
     ]
    }
   ],
   "source": [
    "a=10\n",
    "b=10\n",
    "print(a>b or a==b)"
   ]
  },
  {
   "cell_type": "code",
   "execution_count": 12,
   "id": "f5b55a1e-d1b8-48a4-b72a-d920bfd53cc7",
   "metadata": {},
   "outputs": [
    {
     "name": "stdin",
     "output_type": "stream",
     "text": [
      "Enter Num1:  10\n",
      "Enter Num2:  20\n"
     ]
    },
    {
     "name": "stdout",
     "output_type": "stream",
     "text": [
      "30\n",
      "200\n",
      "Neither both are equal nor num1 is greater than num2\n",
      "num is there\n"
     ]
    }
   ],
   "source": [
    "a=int(input(\"Enter Num1: \"))\n",
    "b=int(input(\"Enter Num2: \"))\n",
    "sum=a+b\n",
    "print(sum)\n",
    "product=a*b\n",
    "print(product)\n",
    "if(a==b):\n",
    "    print(\"Both numbers are equal to each other\")\n",
    "elif(a>b):\n",
    "    print(\"Num1 is greater than Num2\")\n",
    "else:\n",
    "    print(\"Neither both are equal nor num1 is greater than num2\")\n",
    "\n",
    "arr=[10,20,30,40,50]\n",
    "if(a and b in arr):\n",
    "    print(\"num is there\")\n",
    "else:\n",
    "    print(\"num is not there\")"
   ]
  },
  {
   "cell_type": "code",
   "execution_count": 14,
   "id": "0302b761-8ee1-4751-a953-350fbe25e2f0",
   "metadata": {},
   "outputs": [
    {
     "name": "stdout",
     "output_type": "stream",
     "text": [
      "False\n",
      "False\n"
     ]
    }
   ],
   "source": [
    "a=10\n",
    "b=10\n",
    "print(a is not b)\n",
    "c=4\n",
    "d=20\n",
    "print(c is d)"
   ]
  },
  {
   "cell_type": "code",
   "execution_count": null,
   "id": "89cdd984-a780-4d0c-a2ac-d2e239a3f36d",
   "metadata": {},
   "outputs": [],
   "source": []
  }
 ],
 "metadata": {
  "kernelspec": {
   "display_name": "Python 3 (ipykernel)",
   "language": "python",
   "name": "python3"
  },
  "language_info": {
   "codemirror_mode": {
    "name": "ipython",
    "version": 3
   },
   "file_extension": ".py",
   "mimetype": "text/x-python",
   "name": "python",
   "nbconvert_exporter": "python",
   "pygments_lexer": "ipython3",
   "version": "3.13.5"
  }
 },
 "nbformat": 4,
 "nbformat_minor": 5
}
